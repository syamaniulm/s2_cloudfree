{
 "cells": [
  {
   "cell_type": "markdown",
   "id": "07498003-1376-4551-97a5-cd46a18d20bc",
   "metadata": {},
   "source": [
    "# **Sentinel-2 SR Cloud/Shadow-free Project**"
   ]
  },
  {
   "cell_type": "code",
   "execution_count": null,
   "id": "1101e29f-55f3-465b-b0c0-da6cb8c9b324",
   "metadata": {},
   "outputs": [],
   "source": [
    "# These codes are a modification of the Sentinel-2 Cloud Masking with s2cloudless\n",
    "# https://developers.google.com/earth-engine/tutorials/community/sentinel-2-s2cloudless\n",
    "# Original source: https://github.com/google/earthengine-community/blob/master/tutorials/sentinel-2-s2cloudless/index.ipynb\n",
    "# Credit: Justin Braaten (https://github.com/jdbcode)"
   ]
  },
  {
   "cell_type": "code",
   "execution_count": null,
   "id": "2d1c94c8-721c-4470-a404-37ffaa990f9b",
   "metadata": {},
   "outputs": [],
   "source": [
    "# Code modified by Syam'ani (https://github.com/syamaniulm)"
   ]
  },
  {
   "cell_type": "code",
   "execution_count": null,
   "id": "8211a735-3c9d-4b4a-90b8-00e3dfadc9e3",
   "metadata": {},
   "outputs": [],
   "source": [
    "\"\"\"\n",
    "These codes are intended to be executed in the JupyterLab environment installed on the user's computer,\n",
    "not in the Google Coolab cloud environment. If these codes are to be executed in Google Colab,\n",
    "then slight modifications have to be made to the codes.\n",
    "\"\"\""
   ]
  },
  {
   "cell_type": "code",
   "execution_count": null,
   "id": "6d3e3c72-86a1-4ffe-b875-7c516495a29e",
   "metadata": {},
   "outputs": [],
   "source": [
    "\"\"\"\n",
    "Python prerequisites: Python 3.9 or higher\n",
    "\n",
    "Required packages:\n",
    "earthengine-api (https://anaconda.org/conda-forge/earthengine-api)\n",
    "geemap (https://anaconda.org/conda-forge/geemap)\n",
    "geopandas (https://anaconda.org/conda-forge/geopandas)\n",
    "json (https://anaconda.org/jmcmurray/json)\n",
    "folium (https://anaconda.org/conda-forge/folium)\n",
    "geedim (https://anaconda.org/conda-forge/geedim)\n",
    "\n",
    "Other requirements:\n",
    "You must have a Google Earth Engine account to run these codes.\n",
    "\"\"\""
   ]
  },
  {
   "cell_type": "code",
   "execution_count": null,
   "id": "69728c9f-a837-4827-beff-a05be81ab310",
   "metadata": {},
   "outputs": [],
   "source": [
    "import ee"
   ]
  },
  {
   "cell_type": "code",
   "execution_count": null,
   "id": "cab205a9-f1ce-4e55-9faa-e8e28738be54",
   "metadata": {},
   "outputs": [],
   "source": [
    "# Authenticate using your Google Earth Engine account\n",
    "ee.Authenticate()"
   ]
  },
  {
   "cell_type": "code",
   "execution_count": null,
   "id": "c585a279-f6ce-4014-b948-63fe691efc84",
   "metadata": {},
   "outputs": [],
   "source": [
    "# Initialize your Google Earth Engine project\n",
    "# You must change 'your-ee-cloud-project' to match your Google Cloud project, e.g. 'ee-mygeeproject'\n",
    "ee.Initialize(project='your-ee-cloud-project')"
   ]
  },
  {
   "cell_type": "markdown",
   "id": "96584c4d-10d6-43c8-b718-00e9caa3d454",
   "metadata": {},
   "source": [
    "**Importing a region shapefile**"
   ]
  },
  {
   "cell_type": "code",
   "execution_count": null,
   "id": "5001eed6-d87b-4183-b85c-eb30626094a7",
   "metadata": {},
   "outputs": [],
   "source": [
    "# The shapefile must be projected using the Geographic Coordinate System (GCS)\n",
    "# Replace the shapefile with your area of interest and adjust the path\n",
    "\n",
    "import geopandas as gpd\n",
    "\n",
    "region_shp = gpd.read_file('/Your_file_path/Your_shapefile_file_name.shp')\n",
    "region_shp.plot()"
   ]
  },
  {
   "cell_type": "code",
   "execution_count": null,
   "id": "b9e9360c-1c03-42df-8501-814d015d2ec8",
   "metadata": {},
   "outputs": [],
   "source": [
    "# Converting research area into Earth Engine Geometry\n",
    "\n",
    "import json\n",
    "\n",
    "region_js = json.loads(region_shp.to_json())\n",
    "region_fc = ee.FeatureCollection(region_js)\n",
    "region = ee.Geometry(region_fc.geometry())"
   ]
  },
  {
   "cell_type": "markdown",
   "id": "f00c9c37-247d-4084-a32b-f97f73ba9e58",
   "metadata": {},
   "source": [
    "**Creating cloud/shadow-free Sentinel-2 surface reflectance multitemporal mosaic**"
   ]
  },
  {
   "cell_type": "code",
   "execution_count": null,
   "id": "2e1e8b3f-9f0a-41c6-8690-c8e74b3ab6f3",
   "metadata": {},
   "outputs": [],
   "source": [
    "# Define some parameters\n",
    "# You can change the following parameters as desired\n",
    "\n",
    "AOI = ee.Geometry.centroid(region)\n",
    "START_DATE = '2024-01-01'\n",
    "END_DATE = '2024-06-30'\n",
    "CLOUD_FILTER = 60\n",
    "CLD_PRB_THRESH = 50\n",
    "NIR_DRK_THRESH = 0.15\n",
    "CLD_PRJ_DIST = 1\n",
    "BUFFER = 50\n",
    "ZOOM_LEVEL = 12"
   ]
  },
  {
   "cell_type": "code",
   "execution_count": null,
   "id": "e08c6ba3-11c2-415d-bed7-908d5269dc5b",
   "metadata": {},
   "outputs": [],
   "source": [
    "# Accessing the Sentinel-2 MSI TOC image collection\n",
    "\n",
    "# Adjust the cloud percentage threshold as needed, e.g. 20%\n",
    "cloud_ratio = 20\n",
    "\n",
    "s2_col = (\n",
    "    ee.ImageCollection('COPERNICUS/S2_SR_HARMONIZED')\n",
    "    .filterDate(START_DATE,END_DATE)\n",
    "    .filter(ee.Filter.lt('CLOUDY_PIXEL_PERCENTAGE',cloud_ratio))\n",
    ")"
   ]
  },
  {
   "cell_type": "code",
   "execution_count": null,
   "id": "b6388bc6-14b0-4937-95ad-55d13738b755",
   "metadata": {},
   "outputs": [],
   "source": [
    "# Sentinel-2 MSI RGB visualization\n",
    "\n",
    "import geemap\n",
    "\n",
    "rgb_vis = {'min': 0, 'max': 3000, 'bands': ['B4', 'B3', 'B2']}\n",
    "\n",
    "map = geemap.Map()\n",
    "map.centerObject(AOI,ZOOM_LEVEL)\n",
    "map.add_layer(s2_col.median(), rgb_vis, 'Sentinel-2 RGB')\n",
    "map"
   ]
  },
  {
   "cell_type": "code",
   "execution_count": null,
   "id": "a7e1b4d6-b6e7-472e-a416-6c6f343535d2",
   "metadata": {},
   "outputs": [],
   "source": [
    "def get_s2_sr_cld_col(aoi, start_date, end_date):\n",
    "    # Import and filter S2 SR.\n",
    "    s2_sr_col = (ee.ImageCollection('COPERNICUS/S2_SR_HARMONIZED')\n",
    "        .filterBounds(aoi)\n",
    "        .filterDate(start_date, end_date)\n",
    "        .filter(ee.Filter.lte('CLOUDY_PIXEL_PERCENTAGE', CLOUD_FILTER)))\n",
    "\n",
    "    # Import and filter s2cloudless.\n",
    "    s2_cloudless_col = (ee.ImageCollection('COPERNICUS/S2_CLOUD_PROBABILITY')\n",
    "        .filterBounds(aoi)\n",
    "        .filterDate(start_date, end_date))\n",
    "\n",
    "    # Join the filtered s2cloudless collection to the SR collection by the 'system:index' property.\n",
    "    return ee.ImageCollection(ee.Join.saveFirst('s2cloudless').apply(**{\n",
    "        'primary': s2_sr_col,\n",
    "        'secondary': s2_cloudless_col,\n",
    "        'condition': ee.Filter.equals(**{\n",
    "            'leftField': 'system:index',\n",
    "            'rightField': 'system:index'\n",
    "        })\n",
    "    }))"
   ]
  },
  {
   "cell_type": "code",
   "execution_count": null,
   "id": "f93ee831-7101-4ac4-be4c-54b099ae993c",
   "metadata": {},
   "outputs": [],
   "source": [
    "s2_sr_cld_col_eval = get_s2_sr_cld_col(region, START_DATE, END_DATE)"
   ]
  },
  {
   "cell_type": "code",
   "execution_count": null,
   "id": "b77afb5e-82a2-488c-81b3-85181a6e32f0",
   "metadata": {},
   "outputs": [],
   "source": [
    "def add_cloud_bands(img):\n",
    "    # Get s2cloudless image, subset the probability band.\n",
    "    cld_prb = ee.Image(img.get('s2cloudless')).select('probability')\n",
    "\n",
    "    # Condition s2cloudless by the probability threshold value.\n",
    "    is_cloud = cld_prb.gt(CLD_PRB_THRESH).rename('clouds')\n",
    "\n",
    "    # Add the cloud probability layer and cloud mask as image bands.\n",
    "    return img.addBands(ee.Image([cld_prb, is_cloud]))"
   ]
  },
  {
   "cell_type": "code",
   "execution_count": null,
   "id": "8c9c87b8-ba1f-45a1-baff-27b835c465fe",
   "metadata": {},
   "outputs": [],
   "source": [
    "def add_shadow_bands(img):\n",
    "    # Identify water pixels from the SCL band.\n",
    "    not_water = img.select('SCL').neq(6)\n",
    "\n",
    "    # Identify dark NIR pixels that are not water (potential cloud shadow pixels).\n",
    "    SR_BAND_SCALE = 1e4\n",
    "    dark_pixels = img.select('B8').lt(NIR_DRK_THRESH*SR_BAND_SCALE).multiply(not_water).rename('dark_pixels')\n",
    "\n",
    "    # Determine the direction to project cloud shadow from clouds (assumes UTM projection).\n",
    "    shadow_azimuth = ee.Number(90).subtract(ee.Number(img.get('MEAN_SOLAR_AZIMUTH_ANGLE')));\n",
    "\n",
    "    # Project shadows from clouds for the distance specified by the CLD_PRJ_DIST input.\n",
    "    cld_proj = (img.select('clouds').directionalDistanceTransform(shadow_azimuth, CLD_PRJ_DIST*10)\n",
    "        .reproject(**{'crs': img.select(0).projection(), 'scale': 100})\n",
    "        .select('distance')\n",
    "        .mask()\n",
    "        .rename('cloud_transform'))\n",
    "\n",
    "    # Identify the intersection of dark pixels with cloud shadow projection.\n",
    "    shadows = cld_proj.multiply(dark_pixels).rename('shadows')\n",
    "\n",
    "    # Add dark pixels, cloud projection, and identified shadows as image bands.\n",
    "    return img.addBands(ee.Image([dark_pixels, cld_proj, shadows]))"
   ]
  },
  {
   "cell_type": "code",
   "execution_count": null,
   "id": "0ebfdb06-f8c9-4699-a54a-8368704be66b",
   "metadata": {},
   "outputs": [],
   "source": [
    "def add_cld_shdw_mask(img):\n",
    "    # Add cloud component bands.\n",
    "    img_cloud = add_cloud_bands(img)\n",
    "\n",
    "    # Add cloud shadow component bands.\n",
    "    img_cloud_shadow = add_shadow_bands(img_cloud)\n",
    "\n",
    "    # Combine cloud and shadow mask, set cloud and shadow as value 1, else 0.\n",
    "    is_cld_shdw = img_cloud_shadow.select('clouds').add(img_cloud_shadow.select('shadows')).gt(0)\n",
    "\n",
    "    # Remove small cloud-shadow patches and dilate remaining pixels by BUFFER input.\n",
    "    # 20 m scale is for speed, and assumes clouds don't require 10 m precision.\n",
    "    is_cld_shdw = (is_cld_shdw.focalMin(2).focalMax(BUFFER*2/20)\n",
    "        .reproject(**{'crs': img.select([0]).projection(), 'scale': 20})\n",
    "        .rename('cloudmask'))\n",
    "\n",
    "    # Add the final cloud-shadow mask to the image.\n",
    "    return img_cloud_shadow.addBands(is_cld_shdw)"
   ]
  },
  {
   "cell_type": "code",
   "execution_count": null,
   "id": "b0906cef-f7bb-466d-ad87-224758038a0a",
   "metadata": {},
   "outputs": [],
   "source": [
    "# Import the folium library.\n",
    "import folium\n",
    "\n",
    "# Define a method for displaying Earth Engine image tiles to a folium map.\n",
    "def add_ee_layer(self, ee_image_object, vis_params, name, show=True, opacity=1, min_zoom=0):\n",
    "    map_id_dict = ee.Image(ee_image_object).getMapId(vis_params)\n",
    "    folium.raster_layers.TileLayer(\n",
    "        tiles=map_id_dict['tile_fetcher'].url_format,\n",
    "        attr='Map Data &copy; <a href=\"https://earthengine.google.com/\">Google Earth Engine</a>',\n",
    "        name=name,\n",
    "        show=show,\n",
    "        opacity=opacity,\n",
    "        min_zoom=min_zoom,\n",
    "        overlay=True,\n",
    "        control=True\n",
    "        ).add_to(self)\n",
    "\n",
    "# Add the Earth Engine layer method to folium.\n",
    "folium.Map.add_ee_layer = add_ee_layer"
   ]
  },
  {
   "cell_type": "code",
   "execution_count": null,
   "id": "ba902f0d-ef19-43ef-94d8-44b0e05ab51b",
   "metadata": {},
   "outputs": [],
   "source": [
    "def display_cloud_layers(col):\n",
    "    # Mosaic the image collection.\n",
    "    img = col.mosaic()\n",
    "\n",
    "    # Subset layers and prepare them for display.\n",
    "    clouds = img.select('clouds').selfMask()\n",
    "    shadows = img.select('shadows').selfMask()\n",
    "    dark_pixels = img.select('dark_pixels').selfMask()\n",
    "    probability = img.select('probability')\n",
    "    cloudmask = img.select('cloudmask').selfMask()\n",
    "    cloud_transform = img.select('cloud_transform')\n",
    "\n",
    "    # Create a folium map object.\n",
    "    center = AOI.centroid(10).coordinates().reverse().getInfo()\n",
    "    m = folium.Map(location=center, zoom_start=ZOOM_LEVEL)\n",
    "\n",
    "    # Add layers to the folium map.\n",
    "    m.add_ee_layer(img,\n",
    "                   {'bands': ['B4', 'B3', 'B2'], 'min': 0, 'max': 2500, 'gamma': 1.1},\n",
    "                   'S2 image', True, 1, 9)\n",
    "    m.add_ee_layer(probability,\n",
    "                   {'min': 0, 'max': 100},\n",
    "                   'probability (cloud)', False, 1, 9)\n",
    "    m.add_ee_layer(clouds,\n",
    "                   {'palette': 'e056fd'},\n",
    "                   'clouds', False, 1, 9)\n",
    "    m.add_ee_layer(cloud_transform,\n",
    "                   {'min': 0, 'max': 1, 'palette': ['white', 'black']},\n",
    "                   'cloud_transform', False, 1, 9)\n",
    "    m.add_ee_layer(dark_pixels,\n",
    "                   {'palette': 'orange'},\n",
    "                   'dark_pixels', False, 1, 9)\n",
    "    m.add_ee_layer(shadows, {'palette': 'yellow'},\n",
    "                   'shadows', False, 1, 9)\n",
    "    m.add_ee_layer(cloudmask, {'palette': 'orange'},\n",
    "                   'cloudmask', True, 0.5, 9)\n",
    "\n",
    "    # Add a layer control panel to the map.\n",
    "    m.add_child(folium.LayerControl())\n",
    "\n",
    "    # Display the map.\n",
    "    display(m)"
   ]
  },
  {
   "cell_type": "code",
   "execution_count": null,
   "id": "f137a432-832e-4707-abca-b00188b6b3e8",
   "metadata": {},
   "outputs": [],
   "source": [
    "s2_sr_cld_col_eval_disp = s2_sr_cld_col_eval.map(add_cld_shdw_mask)"
   ]
  },
  {
   "cell_type": "code",
   "execution_count": null,
   "id": "ebecdafc-d52c-45b9-b5c3-cbb685d0e9e8",
   "metadata": {},
   "outputs": [],
   "source": [
    "display_cloud_layers(s2_sr_cld_col_eval_disp)"
   ]
  },
  {
   "cell_type": "code",
   "execution_count": null,
   "id": "0929b47d-89bc-4239-9c04-3e2f8696fb35",
   "metadata": {},
   "outputs": [],
   "source": [
    "s2_sr_cld_col = get_s2_sr_cld_col(region, START_DATE, END_DATE)"
   ]
  },
  {
   "cell_type": "code",
   "execution_count": null,
   "id": "772a6c89-9553-47a4-bdb4-696a2f6b5ab3",
   "metadata": {},
   "outputs": [],
   "source": [
    "def apply_cld_shdw_mask(img):\n",
    "    # Subset the cloudmask band and invert it so clouds/shadow are 0, else 1.\n",
    "    not_cld_shdw = img.select('cloudmask').Not()\n",
    "\n",
    "    # Subset reflectance bands and update their masks, return the result.\n",
    "    return img.select('B.*').updateMask(not_cld_shdw)"
   ]
  },
  {
   "cell_type": "code",
   "execution_count": null,
   "id": "4928e8b6-ad0a-41cc-8ac5-2557824f1558",
   "metadata": {},
   "outputs": [],
   "source": [
    "s2_sr_median = s2_sr_cld_col.map(add_cld_shdw_mask).map(apply_cld_shdw_mask).median()"
   ]
  },
  {
   "cell_type": "code",
   "execution_count": null,
   "id": "249646f3-5229-4eb2-8af9-d8f0257067b0",
   "metadata": {},
   "outputs": [],
   "source": [
    "# Create a folium map object.\n",
    "center = AOI.centroid(10).coordinates().reverse().getInfo()\n",
    "m = folium.Map(location=center, zoom_start=ZOOM_LEVEL)\n",
    "\n",
    "# Add layers to the folium map.\n",
    "m.add_ee_layer(s2_sr_median,\n",
    "                {'bands': ['B4', 'B3', 'B2'], 'min': 0, 'max': 2500, 'gamma': 1.1},\n",
    "                'S2 cloud-free mosaic', True, 1, 9)\n",
    "\n",
    "# Add a layer control panel to the map.\n",
    "m.add_child(folium.LayerControl())\n",
    "\n",
    "# Display the map.\n",
    "display(m)"
   ]
  },
  {
   "cell_type": "markdown",
   "id": "db19ad17-cdce-4a0e-bbe1-d94035f5feb0",
   "metadata": {},
   "source": [
    "**Clipping image using region of interest**"
   ]
  },
  {
   "cell_type": "code",
   "execution_count": null,
   "id": "e5bc805e-cb51-4f22-b95c-36fdf9cbca30",
   "metadata": {},
   "outputs": [],
   "source": [
    "s2_image = s2_sr_median.clip(region)"
   ]
  },
  {
   "cell_type": "code",
   "execution_count": null,
   "id": "e64d7cc7-5962-4a57-92a7-c5de19070387",
   "metadata": {},
   "outputs": [],
   "source": [
    "# Create a folium map object.\n",
    "center = AOI.centroid(10).coordinates().reverse().getInfo()\n",
    "m = folium.Map(location=center, zoom_start=ZOOM_LEVEL)\n",
    "\n",
    "# Add layers to the folium map.\n",
    "m.add_ee_layer(s2_image,\n",
    "                {'bands': ['B4', 'B3', 'B2'], 'min': 0, 'max': 2500, 'gamma': 1.1},\n",
    "                'Region', True, 1, 9)\n",
    "\n",
    "# Add a layer control panel to the map.\n",
    "m.add_child(folium.LayerControl())\n",
    "\n",
    "# Display the map.\n",
    "display(m)"
   ]
  },
  {
   "cell_type": "markdown",
   "id": "5003d141-e8cb-41ea-8297-fa8b341f5716",
   "metadata": {},
   "source": [
    "**Create a fishnet to slice the large image into tiles**"
   ]
  },
  {
   "cell_type": "code",
   "execution_count": null,
   "id": "c403cf0f-dca2-484d-87dd-940465ed5978",
   "metadata": {},
   "outputs": [],
   "source": [
    "# Adjust the number of rows and the number of columns according to your region and needs\n",
    "row_num = 3\n",
    "col_num = 3\n",
    "\n",
    "# Creating fishnet features\n",
    "features = geemap.fishnet(region, rows=row_num, cols=col_num)\n",
    "\n",
    "# Fishnet visualization\n",
    "map = geemap.Map()\n",
    "map.addLayer(features, {}, \"Grids\")\n",
    "map.centerObject(region, ZOOM_LEVEL)\n",
    "map"
   ]
  },
  {
   "cell_type": "markdown",
   "id": "bb5183ef-48ea-4c0c-9779-faae3d3b7d5e",
   "metadata": {},
   "source": [
    "**Download image tiles into local drive**"
   ]
  },
  {
   "cell_type": "code",
   "execution_count": null,
   "id": "efa5284a-803c-4b66-b7a8-72124f445869",
   "metadata": {},
   "outputs": [],
   "source": [
    "# Please be aware, the download process can take up to several hours.\n",
    "# Depending on the size of the image and the number of bands you are downloading.\n",
    "# And make sure your local drive capacity is sufficient to accommodate the tile image files."
   ]
  },
  {
   "cell_type": "code",
   "execution_count": null,
   "id": "d2a0e0a1-fe65-4e7d-a010-5f1f05a10fd6",
   "metadata": {},
   "outputs": [],
   "source": [
    "# Set the output directory, adjust it to your needs\n",
    "out_dir = '/Your_image_tiles_output_folder'\n",
    "\n",
    "# Select the required bands, adjust it to your needs\n",
    "s2_image = s2_image.select('B2','B3','B4')\n",
    "\n",
    "# Download image tiles into output directory\n",
    "# Change prefix, crs, and scale according to your needs\n",
    "geemap.download_ee_image_tiles(\n",
    "    s2_image, features, out_dir, prefix='S2_SR_image_tile_', crs='EPSG:32750', scale=10\n",
    ")"
   ]
  }
 ],
 "metadata": {
  "kernelspec": {
   "display_name": "Python 3 (ipykernel)",
   "language": "python",
   "name": "python3"
  },
  "language_info": {
   "codemirror_mode": {
    "name": "ipython",
    "version": 3
   },
   "file_extension": ".py",
   "mimetype": "text/x-python",
   "name": "python",
   "nbconvert_exporter": "python",
   "pygments_lexer": "ipython3",
   "version": "3.9.19"
  }
 },
 "nbformat": 4,
 "nbformat_minor": 5
}
